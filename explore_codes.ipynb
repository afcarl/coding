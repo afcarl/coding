{
 "cells": [
  {
   "cell_type": "code",
   "execution_count": 24,
   "metadata": {},
   "outputs": [],
   "source": [
    "import torch\n",
    "import torch.nn as nn\n",
    "import torch.nn.functional as F\n",
    "import torch.optim as optim\n",
    "from torch.autograd import Variable\n",
    "\n",
    "import numpy as np\n",
    "import matplotlib.pyplot as plt\n",
    "%matplotlib inline\n",
    "\n",
    "from collections import OrderedDict\n",
    "\n",
    "from modules import Net, AWNGChannel, BSChannel, RepeatEncoder, RepeatDecoder\n",
    "\n",
    "R = 2\n",
    "n_batches = 100\n",
    "batch_size = 128\n",
    "n_bits = 4\n",
    "code_len = R*n_bits"
   ]
  },
  {
   "cell_type": "code",
   "execution_count": 25,
   "metadata": {},
   "outputs": [
    {
     "name": "stdout",
     "output_type": "stream",
     "text": [
      "63\n",
      "191\n",
      "294\n",
      "0.9194921875\n"
     ]
    },
    {
     "data": {
      "image/png": "[encoded data removed]",
      "text/plain": [
       "<matplotlib.figure.Figure at 0x7fb56efeae10>"
      ]
     },
     "metadata": {},
     "output_type": "display_data"
    }
   ],
   "source": [
    "mid_dim = 1024\n",
    "encoder = Net(n_bits, mid_dim, code_len, 2, 'all', True).cuda()\n",
    "decoder = Net(code_len, mid_dim, n_bits, 2, 'all', False).cuda()\n",
    "channel = AWNGChannel(1.0).cuda()\n",
    "params = [p for p in encoder.parameters()] + [p for p in decoder.parameters()]\n",
    "\n",
    "n_stops = 0\n",
    "n_stale_epochs = 0\n",
    "n_epochs = 0\n",
    "optimizer = optim.SGD(params, lr=1.0, momentum=0.9, weight_decay=0.0)\n",
    "losses = []\n",
    "\n",
    "while n_stops < 3:\n",
    "\n",
    "    all_data = (torch.rand((n_batches, batch_size, n_bits)) > 0.5).type(torch.FloatTensor)\n",
    "    n_correct = 0\n",
    "\n",
    "    for data in all_data:\n",
    "        optimizer.zero_grad()\n",
    "        data = Variable(data.cuda())\n",
    "        message = encoder(data)\n",
    "        corrupted = channel(message)\n",
    "        reconstruction = decoder(corrupted)\n",
    "        loss = F.binary_cross_entropy_with_logits(reconstruction, data)\n",
    "        loss.backward()\n",
    "        optimizer.step()\n",
    "\n",
    "        n_correct += torch.sum(((reconstruction > 0).type(torch.cuda.FloatTensor) == data).type(torch.cuda.FloatTensor))\n",
    "        losses.append(loss.data[0])\n",
    "        \n",
    "    n_epochs += 1\n",
    "    \n",
    "    if losses[-n_batches] - np.std(losses[-n_batches:]) < losses[-1]:\n",
    "        n_stale_epochs += 1\n",
    "    else:\n",
    "        n_stale_epochs = 0\n",
    "        \n",
    "    if n_stale_epochs > 10:\n",
    "        n_stale_epochs = 0\n",
    "        n_stops += 1\n",
    "        optimizer.param_groups[0]['lr'] *= 0.1\n",
    "        print n_epochs\n",
    "    \n",
    "plt.plot(losses)\n",
    "\n",
    "print float(n_correct) / all_data.nelement()"
   ]
  },
  {
   "cell_type": "code",
   "execution_count": 26,
   "metadata": {},
   "outputs": [],
   "source": [
    "binary = lambda x: np.array([int(i) for i in np.binary_repr(x, n_bits)])\n",
    "\n",
    "data = torch.zeros((2**n_bits, n_bits)).type(torch.FloatTensor)\n",
    "for i in range(2**n_bits):\n",
    "    data[i] = torch.from_numpy(binary(i))\n",
    "    \n",
    "codes = encoder(Variable(data.cuda())).data\n",
    "codes[codes > 0] = 1\n",
    "codes[codes < 0] = 0"
   ]
  },
  {
   "cell_type": "code",
   "execution_count": 27,
   "metadata": {},
   "outputs": [
    {
     "data": {
      "text/plain": [
       "\n",
       "    0     0     0     0\n",
       "    0     0     0     1\n",
       "    0     0     1     0\n",
       "    0     0     1     1\n",
       "    0     1     0     0\n",
       "    0     1     0     1\n",
       "    0     1     1     0\n",
       "    0     1     1     1\n",
       "    1     0     0     0\n",
       "    1     0     0     1\n",
       "    1     0     1     0\n",
       "    1     0     1     1\n",
       "    1     1     0     0\n",
       "    1     1     0     1\n",
       "    1     1     1     0\n",
       "    1     1     1     1\n",
       "[torch.FloatTensor of size 16x4]"
      ]
     },
     "execution_count": 27,
     "metadata": {},
     "output_type": "execute_result"
    }
   ],
   "source": [
    "data"
   ]
  },
  {
   "cell_type": "code",
   "execution_count": 28,
   "metadata": {},
   "outputs": [
    {
     "data": {
      "text/plain": [
       "\n",
       "    0     0     1     0     0     0     1     1\n",
       "    0     1     1     0     0     1     1     1\n",
       "    0     0     1     0     1     0     1     0\n",
       "    0     1     1     0     1     1     1     0\n",
       "    0     0     1     1     0     0     0     1\n",
       "    0     1     1     1     0     1     0     1\n",
       "    0     0     1     1     1     0     0     0\n",
       "    0     1     1     1     1     1     0     0\n",
       "    1     0     0     0     0     0     1     1\n",
       "    1     1     0     0     0     1     1     1\n",
       "    1     0     0     0     1     0     1     0\n",
       "    1     1     0     0     1     1     1     0\n",
       "    1     0     0     1     0     0     0     1\n",
       "    1     1     0     1     0     1     0     1\n",
       "    1     0     0     1     1     0     0     0\n",
       "    1     1     0     1     1     1     0     0\n",
       "[torch.cuda.FloatTensor of size 16x8 (GPU 0)]"
      ]
     },
     "execution_count": 28,
     "metadata": {},
     "output_type": "execute_result"
    }
   ],
   "source": [
    "codes"
   ]
  },
  {
   "cell_type": "code",
   "execution_count": null,
   "metadata": {},
   "outputs": [],
   "source": []
  }
 ],
 "metadata": {
  "kernelspec": {
   "display_name": "Python 2",
   "language": "python",
   "name": "python2"
  },
  "language_info": {
   "codemirror_mode": {
    "name": "ipython",
    "version": 2
   },
   "file_extension": ".py",
   "mimetype": "text/x-python",
   "name": "python",
   "nbconvert_exporter": "python",
   "pygments_lexer": "ipython2",
   "version": "2.7.6"
  }
 },
 "nbformat": 4,
 "nbformat_minor": 2
}
